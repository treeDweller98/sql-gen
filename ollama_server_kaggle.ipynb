{
 "cells": [
  {
   "cell_type": "markdown",
   "metadata": {},
   "source": [
    "### Use this to host an ollama server in Kaggle\n",
    "Use the ngrok tunnel url as the base URL for your ollama Client"
   ]
  },
  {
   "cell_type": "code",
   "execution_count": 1,
   "metadata": {
    "_kg_hide-output": true,
    "execution": {
     "iopub.execute_input": "2025-01-08T05:49:26.657520Z",
     "iopub.status.busy": "2025-01-08T05:49:26.657044Z",
     "iopub.status.idle": "2025-01-08T05:51:51.086421Z",
     "shell.execute_reply": "2025-01-08T05:51:51.084684Z",
     "shell.execute_reply.started": "2025-01-08T05:49:26.657458Z"
    },
    "scrolled": true,
    "trusted": true
   },
   "outputs": [
    {
     "name": "stdout",
     "output_type": "stream",
     "text": [
      "deb https://ngrok-agent.s3.amazonaws.com buster main\n",
      "Get:1 https://cloud.r-project.org/bin/linux/ubuntu jammy-cran40/ InRelease [3,626 B]\n",
      "Get:2 https://ngrok-agent.s3.amazonaws.com buster InRelease [20.3 kB]          \u001b[0m\u001b[33m\n",
      "Get:3 https://developer.download.nvidia.com/compute/cuda/repos/ubuntu2204/x86_64  InRelease [1,581 B]\n",
      "Get:4 http://security.ubuntu.com/ubuntu jammy-security InRelease [129 kB]      \u001b[0m\u001b[33m\n",
      "Get:5 https://r2u.stat.illinois.edu/ubuntu jammy InRelease [6,555 B]           \u001b[0m\n",
      "Hit:6 http://archive.ubuntu.com/ubuntu jammy InRelease                         \u001b[0m\u001b[33m\n",
      "Get:7 https://cloud.r-project.org/bin/linux/ubuntu jammy-cran40/ Packages [61.9 kB]\u001b[33m\n",
      "Get:8 http://archive.ubuntu.com/ubuntu jammy-updates InRelease [128 kB]0m\u001b[33m \u001b[0m\u001b[33m\n",
      "Get:9 https://ngrok-agent.s3.amazonaws.com buster/main amd64 Packages [7,219 B]\n",
      "Get:10 https://developer.download.nvidia.com/compute/cuda/repos/ubuntu2204/x86_64  Packages [1,199 kB]\n",
      "Get:11 https://ppa.launchpadcontent.net/deadsnakes/ppa/ubuntu jammy InRelease [18.1 kB]m\u001b[33m\n",
      "Get:12 https://r2u.stat.illinois.edu/ubuntu jammy/main amd64 Packages [2,631 kB][33m\n",
      "Get:13 https://ppa.launchpadcontent.net/graphics-drivers/ppa/ubuntu jammy InRelease [24.3 kB]\n",
      "Get:14 http://archive.ubuntu.com/ubuntu jammy-backports InRelease [127 kB]     \u001b[0m\u001b[33m\n",
      "Hit:15 https://ppa.launchpadcontent.net/ubuntugis/ppa/ubuntu jammy InRelease   \u001b[0m\n",
      "Get:16 http://security.ubuntu.com/ubuntu jammy-security/main amd64 Packages [2,554 kB]33m\n",
      "Get:17 https://r2u.stat.illinois.edu/ubuntu jammy/main all Packages [8,563 kB] \u001b[0m\n",
      "Get:18 https://ppa.launchpadcontent.net/deadsnakes/ppa/ubuntu jammy/main amd64 Packages [32.9 kB]\n",
      "Get:19 http://security.ubuntu.com/ubuntu jammy-security/restricted amd64 Packages [3,513 kB]\n",
      "Get:20 http://security.ubuntu.com/ubuntu jammy-security/universe amd64 Packages [1,226 kB]33m\n",
      "Get:21 http://archive.ubuntu.com/ubuntu jammy-updates/main amd64 Packages [2,854 kB]\n",
      "Get:22 https://ppa.launchpadcontent.net/graphics-drivers/ppa/ubuntu jammy/main amd64 Packages [53.4 kB]\n",
      "Get:23 http://archive.ubuntu.com/ubuntu jammy-updates/restricted amd64 Packages [3,652 kB]33m\u001b[33m\u001b[33m\n",
      "Get:24 http://archive.ubuntu.com/ubuntu jammy-updates/universe amd64 Packages [1,517 kB]\n",
      "Get:25 http://archive.ubuntu.com/ubuntu jammy-backports/universe amd64 Packages [33.8 kB]\n",
      "Get:26 http://archive.ubuntu.com/ubuntu jammy-backports/main amd64 Packages [81.4 kB]\n",
      "Fetched 28.4 MB in 3s (8,680 kB/s)33m                        \u001b[0m\u001b[33m\u001b[33m\u001b[33m\u001b[33m\u001b[33m\n",
      "Reading package lists... Done\n",
      "Building dependency tree... Done\n",
      "Reading state information... Done\n",
      "143 packages can be upgraded. Run 'apt list --upgradable' to see them.\n",
      "\u001b[1;33mW: \u001b[0mSkipping acquire of configured file 'main/source/Sources' as repository 'https://r2u.stat.illinois.edu/ubuntu jammy InRelease' does not seem to provide it (sources.list entry misspelt?)\u001b[0m\n",
      "Reading package lists... Done\n",
      "Building dependency tree... Done\n",
      "Reading state information... Done\n",
      "The following NEW packages will be installed:\n",
      "  ngrok\n",
      "0 upgraded, 1 newly installed, 0 to remove and 143 not upgraded.\n",
      "Need to get 9,884 kB of archives.\n",
      "After this operation, 0 B of additional disk space will be used.\n",
      "Get:1 https://ngrok-agent.s3.amazonaws.com buster/main amd64 ngrok amd64 3.19.0 [9,884 kB]\n",
      "Fetched 9,884 kB in 0s (33.1 MB/s)0m\u001b[33m\n",
      "debconf: unable to initialize frontend: Dialog\n",
      "debconf: (No usable dialog-like program is installed, so the dialog based frontend cannot be used. at /usr/share/perl5/Debconf/FrontEnd/Dialog.pm line 78, <> line 1.)\n",
      "debconf: falling back to frontend: Readline\n",
      "\n",
      "\u001b7\u001b[0;23r\u001b8\u001b[1ASelecting previously unselected package ngrok.\n",
      "(Reading database ... 127365 files and directories currently installed.)\n",
      "Preparing to unpack .../ngrok_3.19.0_amd64.deb ...\n",
      "\u001b7\u001b[24;0f\u001b[42m\u001b[30mProgress: [  0%]\u001b[49m\u001b[39m [..........................................................] \u001b8\u001b7\u001b[24;0f\u001b[42m\u001b[30mProgress: [ 20%]\u001b[49m\u001b[39m [###########...............................................] \u001b8Unpacking ngrok (3.19.0) ...\n",
      "\u001b7\u001b[24;0f\u001b[42m\u001b[30mProgress: [ 40%]\u001b[49m\u001b[39m [#######################...................................] \u001b8Setting up ngrok (3.19.0) ...\n",
      "\u001b7\u001b[24;0f\u001b[42m\u001b[30mProgress: [ 60%]\u001b[49m\u001b[39m [##################################........................] \u001b8\u001b7\u001b[24;0f\u001b[42m\u001b[30mProgress: [ 80%]\u001b[49m\u001b[39m [##############################################............] \u001b8\n",
      "\u001b7\u001b[0;24r\u001b8\u001b[1A\u001b[J>>> Installing ollama to /usr/local\n",
      ">>> Downloading Linux amd64 bundle\n",
      "############################################################################################   99.9%                                                                               1.0%                                                         19.3%                                                               22.4%                                24.6%                                                         28.9%                                                   34.2%                                   39.6%#                                                          40.5%#########                                                     45.3%###########                                                    46.8%#################                                                  48.5%#############################################################                   82.3%##################################################################         92.8%############################# 100.0%\n",
      ">>> Creating ollama user...\n",
      ">>> Adding ollama user to video group...\n",
      ">>> Adding current user to ollama group...\n",
      ">>> Creating ollama systemd service...\n",
      "\u001b[1m\u001b[31mWARNING:\u001b[m systemd is not running\n",
      "\u001b[1m\u001b[31mWARNING:\u001b[m Unable to detect NVIDIA/AMD GPU. Install lspci or lshw to automatically detect and install GPU dependencies.\n",
      ">>> The Ollama API is now available at 127.0.0.1:11434.\n",
      ">>> Install complete. Run \"ollama\" from the command line.\n",
      "Collecting pyngrok\n",
      "  Downloading pyngrok-7.2.2-py3-none-any.whl.metadata (8.4 kB)\n",
      "Requirement already satisfied: PyYAML>=5.1 in /usr/local/lib/python3.10/dist-packages (from pyngrok) (6.0.2)\n",
      "Downloading pyngrok-7.2.2-py3-none-any.whl (22 kB)\n",
      "Installing collected packages: pyngrok\n",
      "Successfully installed pyngrok-7.2.2\n"
     ]
    }
   ],
   "source": [
    "!curl -sSL https://ngrok-agent.s3.amazonaws.com/ngrok.asc \\\n",
    "\t| sudo tee /etc/apt/trusted.gpg.d/ngrok.asc >/dev/null \\\n",
    "\t&& echo \"deb https://ngrok-agent.s3.amazonaws.com buster main\" \\\n",
    "\t| sudo tee /etc/apt/sources.list.d/ngrok.list \\\n",
    "\t&& sudo apt update \\\n",
    "\t&& sudo apt install ngrok\n",
    "\n",
    "!curl -fsSL https://ollama.com/install.sh | sh\n",
    "\n",
    "%pip install pyngrok ollama"
   ]
  },
  {
   "cell_type": "code",
   "execution_count": 3,
   "metadata": {
    "execution": {
     "iopub.execute_input": "2025-01-08T05:51:55.326506Z",
     "iopub.status.busy": "2025-01-08T05:51:55.326015Z",
     "iopub.status.idle": "2025-01-08T05:51:55.545160Z",
     "shell.execute_reply": "2025-01-08T05:51:55.543965Z",
     "shell.execute_reply.started": "2025-01-08T05:51:55.326470Z"
    },
    "trusted": true
   },
   "outputs": [],
   "source": [
    "import time\n",
    "import subprocess\n",
    "import warnings\n",
    "import ollama\n",
    "from pyngrok import ngrok\n",
    "from kaggle_secrets import UserSecretsClient\n",
    "\n",
    "NGROK_AUTH_TOKEN = UserSecretsClient().get_secret(\"ngrok\")\n",
    "NGROK_USER = '<<HTTPBasicAuth Username>>'\n",
    "NGROK_PASS = '<<HTTPBasicAuth Password>>'\n",
    "NGROK_URL = '<<Enter ngrok tunnel URL>>'\n",
    "\n",
    "\n",
    "def serve_ollama() -> None:\n",
    "    \"\"\" Serves ollama if not already running \"\"\"\n",
    "    def is_ollama_up() -> bool:\n",
    "        pname = 'ollama'\n",
    "        try:\n",
    "            call = subprocess.check_output(f\"pidof {pname}\", shell=True)\n",
    "            return True\n",
    "        except subprocess.CalledProcessError:\n",
    "            return False\n",
    "        \n",
    "    if is_ollama_up():\n",
    "        warnings.warn(\"Ollama already running. Proceeding without re-deployment...\")\n",
    "    else:\n",
    "        process = subprocess.Popen(\n",
    "            \"nohup ollama serve\",\n",
    "            shell=True,\n",
    "            stdout=subprocess.PIPE, \n",
    "            stderr=subprocess.PIPE\n",
    "        )\n",
    "        time.sleep(5)\n",
    "        print(f\"Ollama deployed (PID: {process.pid}).\")\n",
    "\n",
    "\n",
    "def pull_ollama_model(model: str) -> None:\n",
    "    \"\"\" Use if you need to manually pull a model locally. \"\"\"\n",
    "    subprocess.check_call(f\"ollama pull {model}\", shell=True)\n",
    "\n",
    "def serve_ngrok():\n",
    "    ngrok.set_auth_token(NGROK_AUTH_TOKEN)\n",
    "    ngrok_tunnel = ngrok.connect(\n",
    "        addr=\"11434\",\n",
    "        proto='http',\n",
    "        auth=f\"{NGROK_USER}:{NGROK_PASS}\",\n",
    "        host_header=\"localhost:11434\",\n",
    "        url=NGROK_URL,\n",
    "    )\n",
    "    print(f\"{ngrok_tunnel=}\")"
   ]
  },
  {
   "cell_type": "code",
   "execution_count": null,
   "metadata": {
    "execution": {
     "iopub.execute_input": "2025-01-08T05:51:55.546515Z",
     "iopub.status.busy": "2025-01-08T05:51:55.546209Z",
     "iopub.status.idle": "2025-01-08T05:52:02.598465Z",
     "shell.execute_reply": "2025-01-08T05:52:02.597267Z",
     "shell.execute_reply.started": "2025-01-08T05:51:55.546486Z"
    },
    "trusted": true
   },
   "outputs": [],
   "source": [
    "opid = serve_ollama()\n",
    "tunnel = serve_ngrok()"
   ]
  },
  {
   "cell_type": "code",
   "execution_count": 5,
   "metadata": {
    "execution": {
     "iopub.execute_input": "2025-01-08T05:52:02.600503Z",
     "iopub.status.busy": "2025-01-08T05:52:02.600011Z",
     "iopub.status.idle": "2025-01-08T05:52:02.605442Z",
     "shell.execute_reply": "2025-01-08T05:52:02.604005Z",
     "shell.execute_reply.started": "2025-01-08T05:52:02.600449Z"
    },
    "trusted": true
   },
   "outputs": [],
   "source": [
    "# ngrok.disconnect('https://bd07-35-204-215-101.ngrok-free.app')"
   ]
  }
 ],
 "metadata": {
  "kaggle": {
   "accelerator": "nvidiaTeslaT4",
   "dataSources": [],
   "dockerImageVersionId": 30822,
   "isGpuEnabled": true,
   "isInternetEnabled": true,
   "language": "python",
   "sourceType": "notebook"
  },
  "kernelspec": {
   "display_name": ".venv",
   "language": "python",
   "name": "python3"
  },
  "language_info": {
   "codemirror_mode": {
    "name": "ipython",
    "version": 3
   },
   "file_extension": ".py",
   "mimetype": "text/x-python",
   "name": "python",
   "nbconvert_exporter": "python",
   "pygments_lexer": "ipython3",
   "version": "3.10.12"
  }
 },
 "nbformat": 4,
 "nbformat_minor": 4
}
